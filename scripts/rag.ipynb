{
 "cells": [
  {
   "cell_type": "markdown",
   "metadata": {},
   "source": [
    "# Get Started\n",
    "- The script is used to ingest document to RAG, which is a semi-manual process.\n",
    "- Before running the script, install dependencies with the following command in the current directory of this file `pip3 install -r requirements.txt`\n",
    "- RAG ingestion has two parts: 1) document preparation; 2) write document to the corresponding DB environment\n",
    "\n",
    "# High level steps to prepare documents\n",
    "1. Create csv file with the following schema `organization_id,title,content,url`. `organization_id` should be tied to the user profile. `title` is the title of the document. `content` is the actual content of the document. `url` is the source of the document, optional field.\n",
    "2. Manually prepare the entries. One row corresponds to one document.\n",
    "3. Refer to sample file `willy.csv`\n",
    "\n",
    "# High level steps to write documents to DB\n",
    "1. Read document from csv file. The csv schema should follow the one mentioned above. \n",
    "2. Generate embeddings\n",
    "3. Generate chunks\n",
    "4. Connect to Qdrant DB\n",
    "5. Write the document and embeddings to DB\n",
    "6. Validate with test search query\n",
    "7. Validate with Qdrant DB web portal"
   ]
  },
  {
   "cell_type": "code",
   "execution_count": 1,
   "metadata": {},
   "outputs": [
    {
     "name": "stderr",
     "output_type": "stream",
     "text": [
      "/Users/tingzhenming/Library/Python/3.9/lib/python/site-packages/urllib3/__init__.py:35: NotOpenSSLWarning: urllib3 v2 only supports OpenSSL 1.1.1+, currently the 'ssl' module is compiled with 'LibreSSL 2.8.3'. See: https://github.com/urllib3/urllib3/issues/3020\n",
      "  warnings.warn(\n"
     ]
    }
   ],
   "source": [
    "import openai\n",
    "import os\n",
    "import pandas as pd\n",
    "import numpy as np\n",
    "import json\n",
    "import tiktoken\n",
    "import ast\n",
    "import math\n",
    "# Get openAI api key by reading local .env file\n",
    "from dotenv import load_dotenv, find_dotenv\n",
    "from qdrant_client import QdrantClient\n",
    "_ = load_dotenv(find_dotenv()) \n",
    "openai.api_key  = os.environ['OPENAI_API_KEY']"
   ]
  },
  {
   "cell_type": "code",
   "execution_count": 2,
   "metadata": {},
   "outputs": [
    {
     "data": {
      "text/html": [
       "<div>\n",
       "<style scoped>\n",
       "    .dataframe tbody tr th:only-of-type {\n",
       "        vertical-align: middle;\n",
       "    }\n",
       "\n",
       "    .dataframe tbody tr th {\n",
       "        vertical-align: top;\n",
       "    }\n",
       "\n",
       "    .dataframe thead th {\n",
       "        text-align: right;\n",
       "    }\n",
       "</style>\n",
       "<table border=\"1\" class=\"dataframe\">\n",
       "  <thead>\n",
       "    <tr style=\"text-align: right;\">\n",
       "      <th></th>\n",
       "      <th>organization_id</th>\n",
       "      <th>title</th>\n",
       "      <th>content</th>\n",
       "      <th>url</th>\n",
       "    </tr>\n",
       "  </thead>\n",
       "  <tbody>\n",
       "    <tr>\n",
       "      <th>0</th>\n",
       "      <td>willyCompany</td>\n",
       "      <td>PRD - User management v1</td>\n",
       "      <td>Product Requirements Document\\n\\nProblem &amp; Opp...</td>\n",
       "      <td>http://localhost:3000/docs/clvps7amb000a3gwwmz...</td>\n",
       "    </tr>\n",
       "  </tbody>\n",
       "</table>\n",
       "</div>"
      ],
      "text/plain": [
       "  organization_id                     title  \\\n",
       "0    willyCompany  PRD - User management v1   \n",
       "\n",
       "                                             content  \\\n",
       "0  Product Requirements Document\\n\\nProblem & Opp...   \n",
       "\n",
       "                                                 url  \n",
       "0  http://localhost:3000/docs/clvps7amb000a3gwwmz...  "
      ]
     },
     "execution_count": 2,
     "metadata": {},
     "output_type": "execute_result"
    }
   ],
   "source": [
    "# Load your CSV file into a pandas DataFrame\n",
    "df = pd.read_csv('willy.csv')\n",
    "df.head()"
   ]
  },
  {
   "cell_type": "code",
   "execution_count": null,
   "metadata": {},
   "outputs": [],
   "source": [
    "# Experimental: ingest database schema to RAG\n",
    "# TODO: automate the process of loading code and producing eventual content\n",
    "file_path = '../server/db/schema.prisma'\n",
    "with open(file_path, 'r') as file:\n",
    "    file_content = file.read()\n",
    "\n",
    "# Note: it is important to 1) provide high level information including code format; 2) use ``` to wrap the code content\n",
    "content = 'this is the database schema definition of Willy in the format of prisma file. ```' + file_content + '```'\n",
    "row = ['willyCompany','schema.prisma', content, 'NA']\n",
    "df = pd.DataFrame([row], columns=['organization_id','title','content','url'])\n",
    "df.head()"
   ]
  },
  {
   "cell_type": "code",
   "execution_count": 3,
   "metadata": {},
   "outputs": [
    {
     "name": "stdout",
     "output_type": "stream",
     "text": [
      "estimated price to embed this content = $6.97e-05\n"
     ]
    }
   ],
   "source": [
    "# Helper functions to help us create the embeddings\n",
    "\n",
    "# Helper func: calculate number of tokens\n",
    "def num_tokens_from_string(string: str, encoding_name = \"cl100k_base\") -> int:\n",
    "    if not string:\n",
    "        return 0\n",
    "    # Returns the number of tokens in a text string\n",
    "    encoding = tiktoken.get_encoding(encoding_name)\n",
    "    try:\n",
    "        num_tokens = len(encoding.encode(string, disallowed_special=()))\n",
    "    except Exception as e:\n",
    "        print(f\"Error encode {string}: {e}\")\n",
    "        return 0\n",
    "    return num_tokens\n",
    "\n",
    "# Helper function: calculate length of essay\n",
    "def get_essay_length(essay):\n",
    "    word_list = essay.split()\n",
    "    num_words = len(word_list)\n",
    "    return num_words\n",
    "\n",
    "# Helper function: calculate cost of embedding num_tokens\n",
    "# Assumes we're using the text-embedding-ada-002 model\n",
    "# See https://openai.com/pricing\n",
    "def get_embedding_cost(num_tokens):\n",
    "    return num_tokens/1000*0.0001\n",
    "\n",
    "# Helper function: calculate total cost of embedding all content in the dataframe\n",
    "def get_total_embeddings_cost():\n",
    "    total_tokens = 0\n",
    "    for i in range(len(df.index)):\n",
    "        text = df['content'][i]\n",
    "        token_len = num_tokens_from_string(text)\n",
    "        total_tokens = total_tokens + token_len\n",
    "    total_cost = get_embedding_cost(total_tokens)\n",
    "    return total_cost\n",
    "\n",
    "# quick check on total token amount for price estimation\n",
    "total_cost = get_total_embeddings_cost()\n",
    "print(\"estimated price to embed this content = $\" + str(total_cost))"
   ]
  },
  {
   "cell_type": "code",
   "execution_count": 4,
   "metadata": {},
   "outputs": [
    {
     "name": "stdout",
     "output_type": "stream",
     "text": [
      "[['willyCompany', 'PRD - User management v1', 'Product Requirements Document\\n\\nProblem & Opportunity\\n\\nThe current user management system in Project Willy is limited to email/password login and lacks support for OAuth-based authentication methods like Google OAuth. Additionally, the existing system does not provide a comprehensive way for users to join different teams through invitations, nor does it allow team admins to manage team members effectively. The new enterprise-grade user management system for Omniflow users will address these gaps by introducing Google OAuth signup and login, team invitation mechanisms, and enhanced admin capabilities for managing team members and user account statuses.\\n\\nTarget Audience & User Persona\\n\\nThe target audience for the new user management system includes:\\n\\n\\n\\n\\n\\nCompany Admins: Responsible for managing user accounts, including suspending or deactivating accounts.\\n\\n\\n\\nTeam Admins: Responsible for managing team members, including adding and removing users from teams.\\n\\n\\n\\nRegular Users: Users who need to log in, join teams, and participate in projects.\\n\\nMetrics and Goals\\n\\n\\n\\n\\n\\nIncrease user login success rate by 20% within the first three months of implementation.\\n\\n\\n\\nAchieve a 90% adoption rate of Google OAuth login among new users within six months.\\n\\n\\n\\nReduce the time taken for team admins to add or remove team members by 50%.\\n\\n\\n\\nEnsure that 100% of user account suspensions and deactivations are processed correctly within the first month.\\n\\nUse Cases / Features\\n\\n\\n\\n\\n\\nSupport for Google OAuth signup and login.\\n\\n\\n\\nInvitation-based team joining mechanism.\\n\\n\\n\\nAdmin capabilities for adding/removing team members.\\n\\n\\n\\nAdmin capabilities for suspending or deactivating user accounts.\\n\\nFunctional Requirements\\n\\n\\n\\n\\n\\nThe system should support Google OAuth for user signup and login.\\n\\n\\n\\nUsers should be able to join teams through invitation links sent via email.\\n\\n\\n\\nTeam admins should be able to add and remove team members from the team management interface.\\n\\n\\n\\nCompany admins should be able to suspend or deactivate user accounts from the admin dashboard.\\n\\nNon-functional Requirements\\n\\n\\n\\n\\n\\nThe system should ensure high availability with 99.9% uptime.\\n\\n\\n\\nThe system should be scalable to handle up to 10,000 concurrent users.\\n\\n\\n\\nThe system should ensure data security and comply with GDPR regulations.\\n\\n\\n\\nThe system should provide a user-friendly interface with a response time of less than 2 seconds for all major actions.\\n\\nEpics & User Stories\\n\\nEpic 1: User Authentication\\n\\n\\n\\n\\n\\nUser Story 1: As a user, I want to sign up using Google OAuth so that I can quickly create an account without entering my email and password.\\n\\n\\n\\nUser Story 2: As a user, I want to log in using Google OAuth so that I can access my account without remembering another password.\\n\\nEpic 2: Team Management\\n\\n\\n\\n\\n\\nUser Story 1: As a team admin, I want to send invitation links to users so that they can join my team.\\n\\n\\n\\nUser Story 2: As a user, I want to join a team using an invitation link so that I can collaborate with my team members.\\n\\n\\n\\nUser Story 3: As a team admin, I want to add users to my team from the team management interface so that I can manage team membership efficiently.\\n\\n\\n\\nUser Story 4: As a team admin, I want to remove users from my team from the team management interface so that I can manage team membership efficiently.\\n\\nEpic 3: User Account Management\\n\\n\\n\\n\\n\\nUser Story 1: As a company admin, I want to suspend user accounts so that I can temporarily restrict access for certain users.\\n\\n\\n\\nUser Story 2: As a company admin, I want to deactivate user accounts so that I can permanently restrict access for certain users.', 'http://localhost:3000/docs/clvps7amb000a3gwwmz3odznh', 697]]\n"
     ]
    }
   ],
   "source": [
    "# Create new list with small content chunks to not hit max token limits\n",
    "# Note: the maximum number of tokens for a single request is 8191\n",
    "# https://openai.com/docs/api-reference/requests\n",
    "\n",
    "# list for chunked content and embeddings\n",
    "new_list = []\n",
    "ideal_token_size = 4096\n",
    "# Split up the text into token sizes of around 512 tokens\n",
    "for i in range(len(df.index)):\n",
    "    text = df['content'][i]\n",
    "    token_len = num_tokens_from_string(text)\n",
    "    if token_len == 0:\n",
    "        print(\"skipping \" + str(text))\n",
    "        continue\n",
    "    if token_len <= ideal_token_size:\n",
    "        new_list.append([df['organization_id'][i],df['title'][i], df['content'][i], df['url'][i], token_len])\n",
    "    else:\n",
    "        # add content to the new list in chunks\n",
    "        start = 0\n",
    "        # 1 token ~ 3/4 of a word\n",
    "        ideal_size = int(ideal_token_size // (4/3))\n",
    "        end = ideal_size\n",
    "        #split text by spaces into words\n",
    "        words = text.split()\n",
    "\n",
    "        #remove empty spaces\n",
    "        words = [x for x in words if x != ' ']\n",
    "\n",
    "        total_words = len(words)\n",
    "        \n",
    "        #calculate iterations\n",
    "        chunks = total_words // ideal_size\n",
    "        if total_words % ideal_size != 0:\n",
    "            chunks += 1\n",
    "        \n",
    "        new_content = []\n",
    "        for j in range(chunks):\n",
    "            if end > total_words:\n",
    "                end = total_words\n",
    "            new_content = words[start:end]\n",
    "            new_content_string = ' '.join(new_content)\n",
    "            new_content_token_len = num_tokens_from_string(new_content_string)\n",
    "            if new_content_token_len > 0:\n",
    "                new_list.append([df['organization_id'][i],df['title'][i], new_content_string, df['url'][i], new_content_token_len])\n",
    "            start += ideal_size\n",
    "            end += ideal_size\n",
    "\n",
    "print(new_list)"
   ]
  },
  {
   "cell_type": "code",
   "execution_count": 5,
   "metadata": {},
   "outputs": [
    {
     "data": {
      "text/html": [
       "<div>\n",
       "<style scoped>\n",
       "    .dataframe tbody tr th:only-of-type {\n",
       "        vertical-align: middle;\n",
       "    }\n",
       "\n",
       "    .dataframe tbody tr th {\n",
       "        vertical-align: top;\n",
       "    }\n",
       "\n",
       "    .dataframe thead th {\n",
       "        text-align: right;\n",
       "    }\n",
       "</style>\n",
       "<table border=\"1\" class=\"dataframe\">\n",
       "  <thead>\n",
       "    <tr style=\"text-align: right;\">\n",
       "      <th></th>\n",
       "      <th>organization_id</th>\n",
       "      <th>title</th>\n",
       "      <th>content</th>\n",
       "      <th>url</th>\n",
       "      <th>tokens</th>\n",
       "      <th>embeddings</th>\n",
       "    </tr>\n",
       "  </thead>\n",
       "  <tbody>\n",
       "    <tr>\n",
       "      <th>0</th>\n",
       "      <td>willyCompany</td>\n",
       "      <td>PRD - User management v1</td>\n",
       "      <td>Product Requirements Document\\n\\nProblem &amp; Opp...</td>\n",
       "      <td>http://localhost:3000/docs/clvps7amb000a3gwwmz...</td>\n",
       "      <td>697</td>\n",
       "      <td>[0.007016368210315704, -0.025088831782341003, ...</td>\n",
       "    </tr>\n",
       "  </tbody>\n",
       "</table>\n",
       "</div>"
      ],
      "text/plain": [
       "  organization_id                     title  \\\n",
       "0    willyCompany  PRD - User management v1   \n",
       "\n",
       "                                             content  \\\n",
       "0  Product Requirements Document\\n\\nProblem & Opp...   \n",
       "\n",
       "                                                 url  tokens  \\\n",
       "0  http://localhost:3000/docs/clvps7amb000a3gwwmz...     697   \n",
       "\n",
       "                                          embeddings  \n",
       "0  [0.007016368210315704, -0.025088831782341003, ...  "
      ]
     },
     "execution_count": 5,
     "metadata": {},
     "output_type": "execute_result"
    }
   ],
   "source": [
    "# Helper function: get embeddings for a text\n",
    "from openai import OpenAI\n",
    "client = OpenAI()\n",
    "def get_embeddings(text):\n",
    "   return client.embeddings.create(input = [text], model=\"text-embedding-ada-002\").data[0].embedding\n",
    "\n",
    "# Create embeddings for each piece of content\n",
    "for i in range(len(new_list)):\n",
    "   text = new_list[i][2]\n",
    "   embedding = get_embeddings(text)\n",
    "   new_list[i].append(embedding)\n",
    "\n",
    "# Create a new dataframe from the list\n",
    "df_new = pd.DataFrame(new_list, columns=['organization_id','title', 'content', 'url', 'tokens', 'embeddings'])\n",
    "df_new.head()"
   ]
  },
  {
   "cell_type": "code",
   "execution_count": 6,
   "metadata": {},
   "outputs": [
    {
     "name": "stdout",
     "output_type": "stream",
     "text": [
      "https://f26a0111-a0c4-428c-84be-1b2c98869ba0.us-east4-0.gcp.cloud.qdrant.io\n"
     ]
    }
   ],
   "source": [
    "# connect to qdrant database and create a new collection\n",
    "# 1536 is the size of OpenAI text-embedding-3-small embedding model\n",
    "from qdrant_client import QdrantClient, models\n",
    "from qdrant_client.http import models as rest\n",
    "import uuid\n",
    "\n",
    "# Get db connection by reading local .env file\n",
    "_ = load_dotenv(find_dotenv()) \n",
    "api_key  = os.environ['QDRANT_API_KEY']\n",
    "connection_url  = os.environ['QDRANT_DATABASE_URL'] \n",
    "qdrant_client = QdrantClient(\n",
    "    url=connection_url,\n",
    "    api_key=api_key,\n",
    ")\n",
    "print(os.environ['QDRANT_DATABASE_URL'])\n",
    "collection_name = \"text-collection\"\n",
    "# qdrant_client.create_collection(\n",
    "#     collection_name=collection_name,\n",
    "#     vectors_config=models.VectorParams(size=1536, distance=models.Distance.COSINE),\n",
    "# )\n"
   ]
  },
  {
   "cell_type": "code",
   "execution_count": 7,
   "metadata": {},
   "outputs": [
    {
     "data": {
      "text/plain": [
       "UpdateResult(operation_id=9, status=<UpdateStatus.COMPLETED: 'completed'>)"
      ]
     },
     "execution_count": 7,
     "metadata": {},
     "output_type": "execute_result"
    }
   ],
   "source": [
    "qdrant_client.upsert(\n",
    "    collection_name=collection_name,\n",
    "    points=[\n",
    "        rest.PointStruct(\n",
    "            id=str(uuid.uuid4()),\n",
    "            vector=v['embeddings'],\n",
    "            payload={\n",
    "                \"organization_id\": v['organization_id'],\n",
    "                \"title\": v['title'],\n",
    "                \"url\": v['url'],\n",
    "                \"content\": v['content'],\n",
    "            },\n",
    "        )\n",
    "        for k, v in df_new.iterrows()\n",
    "    ],\n",
    ")"
   ]
  },
  {
   "cell_type": "code",
   "execution_count": null,
   "metadata": {},
   "outputs": [],
   "source": [
    "# !Use with Caution! Copy data from dev to prod db\n",
    "prod_qdrant_url = '<PROD_URL>'\n",
    "prod_qdrant_key = '<PROD_KEY>'\n",
    "prod_qdrant_client = QdrantClient(\n",
    "            url = prod_qdrant_url,\n",
    "            api_key = prod_qdrant_key)\n",
    "# prod_qdrant_client.create_collection(\n",
    "#     collection_name=collection_name,\n",
    "#     vectors_config=models.VectorParams(size=1536, distance=models.Distance.COSINE),\n",
    "# )\n",
    "print(prod_qdrant_url)"
   ]
  },
  {
   "cell_type": "code",
   "execution_count": null,
   "metadata": {},
   "outputs": [],
   "source": [
    "# !Use with Caution! Copy data from dev to prod db\n",
    "# qdrant_client.migrate(prod_qdrant_client,[collection_name],batch_size = 100,recreate_on_collision=True)"
   ]
  },
  {
   "cell_type": "code",
   "execution_count": 9,
   "metadata": {},
   "outputs": [
    {
     "name": "stdout",
     "output_type": "stream",
     "text": [
      "['Product Requirements Document\\n\\nProblem & Opportunity\\n\\nThe current user management system in Project Willy is limited to email/password login and lacks support for OAuth-based authentication methods like Google OAuth. Additionally, the existing system does not provide a comprehensive way for users to join different teams through invitations, nor does it allow team admins to manage team members effectively. The new enterprise-grade user management system for Omniflow users will address these gaps by introducing Google OAuth signup and login, team invitation mechanisms, and enhanced admin capabilities for managing team members and user account statuses.\\n\\nTarget Audience & User Persona\\n\\nThe target audience for the new user management system includes:\\n\\n\\n\\n\\n\\nCompany Admins: Responsible for managing user accounts, including suspending or deactivating accounts.\\n\\n\\n\\nTeam Admins: Responsible for managing team members, including adding and removing users from teams.\\n\\n\\n\\nRegular Users: Users who need to log in, join teams, and participate in projects.\\n\\nMetrics and Goals\\n\\n\\n\\n\\n\\nIncrease user login success rate by 20% within the first three months of implementation.\\n\\n\\n\\nAchieve a 90% adoption rate of Google OAuth login among new users within six months.\\n\\n\\n\\nReduce the time taken for team admins to add or remove team members by 50%.\\n\\n\\n\\nEnsure that 100% of user account suspensions and deactivations are processed correctly within the first month.\\n\\nUse Cases / Features\\n\\n\\n\\n\\n\\nSupport for Google OAuth signup and login.\\n\\n\\n\\nInvitation-based team joining mechanism.\\n\\n\\n\\nAdmin capabilities for adding/removing team members.\\n\\n\\n\\nAdmin capabilities for suspending or deactivating user accounts.\\n\\nFunctional Requirements\\n\\n\\n\\n\\n\\nThe system should support Google OAuth for user signup and login.\\n\\n\\n\\nUsers should be able to join teams through invitation links sent via email.\\n\\n\\n\\nTeam admins should be able to add and remove team members from the team management interface.\\n\\n\\n\\nCompany admins should be able to suspend or deactivate user accounts from the admin dashboard.\\n\\nNon-functional Requirements\\n\\n\\n\\n\\n\\nThe system should ensure high availability with 99.9% uptime.\\n\\n\\n\\nThe system should be scalable to handle up to 10,000 concurrent users.\\n\\n\\n\\nThe system should ensure data security and comply with GDPR regulations.\\n\\n\\n\\nThe system should provide a user-friendly interface with a response time of less than 2 seconds for all major actions.\\n\\nEpics & User Stories\\n\\nEpic 1: User Authentication\\n\\n\\n\\n\\n\\nUser Story 1: As a user, I want to sign up using Google OAuth so that I can quickly create an account without entering my email and password.\\n\\n\\n\\nUser Story 2: As a user, I want to log in using Google OAuth so that I can access my account without remembering another password.\\n\\nEpic 2: Team Management\\n\\n\\n\\n\\n\\nUser Story 1: As a team admin, I want to send invitation links to users so that they can join my team.\\n\\n\\n\\nUser Story 2: As a user, I want to join a team using an invitation link so that I can collaborate with my team members.\\n\\n\\n\\nUser Story 3: As a team admin, I want to add users to my team from the team management interface so that I can manage team membership efficiently.\\n\\n\\n\\nUser Story 4: As a team admin, I want to remove users from my team from the team management interface so that I can manage team membership efficiently.\\n\\nEpic 3: User Account Management\\n\\n\\n\\n\\n\\nUser Story 1: As a company admin, I want to suspend user accounts so that I can temporarily restrict access for certain users.\\n\\n\\n\\nUser Story 2: As a company admin, I want to deactivate user accounts so that I can permanently restrict access for certain users.', 'Project Willy: User and Team Structure\\nAfter considering things overnight, I’d like to propose the following structure for user and team\\ninformation\\n\\nUser Information Storage\\n1. The only user information stored in Cognito will be email and security information.\\nEverything else will be stored in our own User table:\\na. userId - reference to the ID from Cognito\\nb. Email - leaving this so we can search in future (but it is double-stored with\\nCognito)\\nc. userName\\nd. firstName\\ne. lastName\\nf. Specialty\\ng. Picture - eventually\\n2. Only email is required to add the user to Cognito. When the user logs in, if they have not\\nfilled in the rest of the information, they will be required to do so in order to continue.\\n3. When you invite a new user from the UI, we will generate a new Cognito account with\\njust their email and a temporary password. We will customize the email they receive to\\nindicate next steps. They will need to login from there.\\na. If the user already exists but in another organization we will need to invite them to\\njoin the new one. This is a flow that will need to be worked out\\n4. I am suggesting we leave the sign-up form turned off on the site for now, but we can turn\\nthis on later with an invitation code (or open to the public when we get there).\\nRealistically this would be more about starting a new organization than signing up a new\\nuser within one, so I think the flow will be a bit different here.\\n5. We will update the Users model in our system to not store any of the information from\\nCognito. This means removing the following fields: password.\\n6. If in future we want to move more data into Cognito, we can do so and keep our\\nserver-side APIs the same (the server can talk to Cognito if needed)\\n\\nOrganizations and Teams\\n1. Organizations will represent the top level(s) of our projects/users tree. A user can belong\\nto more than one organization, but projects cannot\\n2. We will have a new model to represent users in an organization, called OrganizationUser\\n\\n\\x0ca. id - unique id for this user/organization combo. This is what we will reference\\nfrom projects, etc.\\nb. cognitoUserId - same as Cognito - we will use this when we need to look up\\ninformation from Cognito or send emails\\nc. organizationId - link to Organization model / table\\nd. department\\ne. Role - refers to the user’s role at the organization level - for example ADMIN\\nmeans they administer the organization and can do things like changing tiers.\\nTeam roles are treated separately (see below)\\nf. Velocity\\ng. Status - lets us disable a user within an organization while preserving history\\n7. Within an organization, we will have a tree of Teams. Each team can contain other\\nsub-teams and projects. The Team and UserTeam models will be changed as follows:\\na. Add a parentTeamId field to the Team model. This field can be null, and will\\ndetermine where the team fits in the tree. If the parent is null, it will be a direct\\nchild of the organization\\nb. The userId field in UserTeam will be changed to point to the OrganizationUser\\nmodel\\nc. Add a role to the UserTeam table to indicate the user’s role within that team. We\\nwill want to have some logical rules around this, and may want to follow some\\nform of RACI/DACI by team (or make this configurable by organization). This role\\nis purely for the team itself - for example a user may be responsible for writing /\\nediting the weekly reports for a team\\n8. Logically, when we are working with teams, we should treat parent teams as a superset\\nof all the sub-teams and projects they contain. A few examples:\\na. Adding a user to a child team will also add them to all parent teams as well, but in\\na minimalist role. Adding a member to the App Eng team will add that same\\nmember as a viewer to the Engineering team and a viewer to any other parent\\nteams above that.\\nb. Adding a user to a parent team will not add them to any child teams.\\nc. Removing a user from a parent team will remove them from all child teams as\\nwell.\\n9. Clicking on any Team node in the tree should show you reporting at that team level, both\\nstatus in terms of statistics and a list of weekly reports. Both should summarize all of the\\nsub-teams and projects within that team. Weekly reports will percolate up the tree.\\n\\nUpdate from 1/7:\\nI am running into a bit of a challenge, and wanted to write it up here to get a second opinion.\\n● Background: we now have a separate user object and organization_user object. The\\nlatter connects the user to an organization and contains org-specific info as well.\\n\\n\\x0c●\\n\\n●\\n\\n●\\n●\\n\\nProblem: it can be difficult to access the organization_user from the context of some\\nobjects. If you are working with a project, it is easy - you just look them up by\\norganizationId and userId. But for a sub-item like an issue, you only have projectId and\\nuserId. This is a problem both for reading data (think of the complications populating the\\nmy issues page for example), and when writing data.\\nPotential solutions:\\n○ Solution A - add a random ID to the organization_user table, and refer to that\\nfrom all of the other models. This makes it straightforward to connect to data but\\nchanges the foreign keys and input / outputs everywhere. It also gets verbose creatorOrganizationUserId for example (this is the solution I have mostly coded\\nup and working at this point). This also has a downside when you are creating\\nnew objects - you will have a user_id from the authenticated user but will need to\\nlook up the organization_user and may need to look up the organizationId to do\\nso.\\n○ Solution B - don’t have an id in the organization_user table, and do the\\nconnection based on both organization_id and user_id. In some cases, we will\\nneed to make another DB call to look up organization_id. Even worse, some of\\nthe data objects will have a user_id but will not be able to have a reference to the\\norganiztion_user table. For example, TemplateIssue will have a user_id but not\\nan organization_id field, and so cannot connect to that table directly. This will\\nmake for some nasty queries.\\n○ Solution C - similar to Solution B above, but denormalize organization_id, and set\\nit on pretty much all of our tables. This like Issues would have both a link to\\nproject_id and to organization_id, and from there could put together a link to\\norganization_user. There would still be a couple places we need to do an extra\\nlookup but only for write scenarios which should be ok. We would have some\\nduplicate data, but we should not be changing organization, and this could even\\nhelp us partition things a bit more cleanly.\\n○ Solution D - move to a single organization per user. The entire organization_user\\ntable would go away, and you would need to create a new user (with a new\\nemail) for each organization you wanted to be a part of.\\nProposal - after writing this down, I like solutions C and D. I think I will code up solution\\nC, and if that is too complex, move to option D.\\nConclusion - we will go with Solution D, and punt cross-org users into the future.\\n\\n\\x0c', 'this is the database schema definition of Willy in the format of prisma file. ```generator client {\\n  provider = \"prisma-client-js\"\\n}\\n\\ndatasource db {\\n  provider = \"postgresql\"\\n  url      = env(\"DATABASE_URL\")\\n}\\n\\nmodel User {\\n  id                       String               @id\\n  organizationId           String               @map(\"organization_id\")\\n  email                    String               @unique\\n  firstname                String\\n  lastname                 String\\n  username                 String\\n  department               Department?\\n  role                     UserRole             @default(EMPLOYEE)\\n  specialty                String?\\n  velocity                 Int?\\n  status                   RecordStatus         @default(ACTIVE)\\n  meta                     Json                 @default(\"{}\")\\n  createdAt                DateTime             @default(now()) @map(\"created_at\")\\n  updatedAt                DateTime             @updatedAt @map(\"updated_at\")\\n  Comment                  Comment[]\\n  createdDocuments         Document[]\\n  IssueChangeHistory       IssueChangeHistory[]\\n  createdIssues            Issue[]              @relation(\"createdBy\")\\n  ownedIssues              Issue[]              @relation(\"ownedBy\")\\n  createdProjects          Project[]            @relation(\"createdProjects\")\\n  ownedProjects            Project[]            @relation(\"ownedProjects\")\\n  createdTemplateDocuments TemplateDocument[]\\n  createdTemplateIssues    TemplateIssue[]\\n  createdTemplateProjects  TemplateProject[]\\n  teams                    UserTeam[]\\n  organization             Organization         @relation(fields: [organizationId], references: [id])\\n  createdWorkPlans         WorkPlan[]           @relation(\"createdWorkPlans\")\\n  ownedWorkPlans           WorkPlan[]           @relation(\"ownedWorkPlans\")\\n\\n  @@map(\"users\")\\n}\\n\\nmodel Organization {\\n  id                String             @id @default(cuid())\\n  name              String\\n  description       String?\\n  website           String?\\n  status            RecordStatus       @default(ACTIVE)\\n  createdAt         DateTime           @default(now()) @map(\"created_at\")\\n  updatedAt         DateTime           @updatedAt @map(\"updated_at\")\\n  projects          Project[]\\n  teams             Team[]\\n  templateDocuments TemplateDocument[]\\n  templateProjects  TemplateProject[]\\n  users             User[]\\n\\n  @@map(\"organizations\")\\n}\\n\\nmodel Team {\\n  id             String       @id @default(cuid())\\n  organizationId String       @map(\"organization_id\")\\n  parentTeamId   String?      @map(\"parent_team_id\")\\n  name           String       @unique\\n  description    String?\\n  status         RecordStatus @default(ACTIVE)\\n  createdAt      DateTime     @default(now()) @map(\"created_at\")\\n  updatedAt      DateTime     @updatedAt @map(\"updated_at\")\\n  projects       Project[]\\n  organization   Organization @relation(fields: [organizationId], references: [id])\\n  parentTeam     Team?        @relation(\"parentTeam\", fields: [parentTeamId], references: [id])\\n  childTeams     Team[]       @relation(\"parentTeam\")\\n  members        UserTeam[]\\n\\n  @@map(\"teams\")\\n}\\n\\nmodel UserTeam {\\n  userId    String       @map(\"user_id\")\\n  teamId    String       @map(\"team_id\")\\n  status    RecordStatus @default(ACTIVE)\\n  meta      Json         @default(\"{}\")\\n  createdAt DateTime     @default(now()) @map(\"created_at\")\\n  updatedAt DateTime     @updatedAt @map(\"updated_at\")\\n  team      Team         @relation(fields: [teamId], references: [id])\\n  user      User         @relation(fields: [userId], references: [id])\\n\\n  @@id([userId, teamId])\\n  @@map(\"userTeams\")\\n}\\n\\nmodel TemplateProject {\\n  id             String          @id @default(cuid())\\n  organizationId String          @map(\"organization_id\")\\n  name           String\\n  tags           String          @default(\"\")\\n  description    String?\\n  rating         Int             @default(0)\\n  use_count      Int             @default(0)\\n  access         TemplateAccess  @default(ORGANIZATION)\\n  meta           Json?           @default(\"{}\")\\n  status         ProjectStatus   @default(CREATED)\\n  createdAt      DateTime        @default(now()) @map(\"created_at\")\\n  updatedAt      DateTime        @updatedAt @map(\"updated_at\")\\n  creatorUserId  String          @map(\"creator_user_id\")\\n  projects       Project[]\\n  templateIssues TemplateIssue[]\\n  creator        User            @relation(fields: [creatorUserId], references: [id])\\n  organization   Organization    @relation(fields: [organizationId], references: [id])\\n\\n  @@map(\"templateProjects\")\\n}\\n\\nmodel TemplateIssue {\\n  id                 String                    @id @default(cuid())\\n  templateProjectId  String                    @map(\"template_project_id\")\\n  name               String\\n  description        String?\\n  depth              Int                       @default(1)\\n  fields             Json?                     @default(\"{}\")\\n  status             IssueStatus               @default(CREATED)\\n  meta               Json?                     @default(\"{}\")\\n  createdAt          DateTime                  @default(now()) @map(\"created_at\")\\n  updatedAt          DateTime                  @updatedAt @map(\"updated_at\")\\n  creatorUserId      String                    @map(\"creator_user_id\")\\n  type               IssueType?\\n  Issue              Issue[]\\n  templateDocument   TemplateDocument[]\\n  templateDependedBy TemplateIssueDependency[] @relation(\"templateDependedBy\")\\n  templateDependsOn  TemplateIssueDependency[] @relation(\"templateDependsOn\")\\n  creator            User                      @relation(fields: [creatorUserId], references: [id])\\n  templateProject    TemplateProject           @relation(fields: [templateProjectId], references: [id])\\n\\n  @@map(\"templateIssues\")\\n}\\n\\nmodel TemplateIssueDependency {\\n  dependsOnTemplateIssueId  String\\n  dependedByTemplateIssueId String\\n  status                    RecordStatus  @default(ACTIVE)\\n  meta                      Json          @default(\"{}\")\\n  createdAt                 DateTime      @default(now()) @map(\"created_at\")\\n  updatedAt                 DateTime      @updatedAt @map(\"updated_at\")\\n  dependedByTemplateIssue   TemplateIssue @relation(\"templateDependedBy\", fields: [dependedByTemplateIssueId], references: [id])\\n  dependsOnTemplateIssue    TemplateIssue @relation(\"templateDependsOn\", fields: [dependsOnTemplateIssueId], references: [id])\\n\\n  @@id([dependsOnTemplateIssueId, dependedByTemplateIssueId])\\n  @@map(\"templateIssueDependencies\")\\n}\\n\\nmodel Project {\\n  id                  String           @id @default(cuid())\\n  organizationId      String           @map(\"organization_id\")\\n  name                String\\n  description         String?\\n  storyPoint          Int?             @map(\"story_point\")\\n  dueDate             DateTime?        @default(now()) @map(\"due_date\")\\n  progress            Int?             @default(0)\\n  access              Access           @default(ORGANIZATION)\\n  status              ProjectStatus    @default(CREATED)\\n  meta                Json?            @default(\"{}\")\\n  teamId              String?          @map(\"team_id\")\\n  templateProjectId   String?          @map(\"template_project_id\")\\n  creatorUserId       String           @map(\"creator_user_id\")\\n  ownerUserId         String?          @map(\"owner_user_id\")\\n  createdAt           DateTime         @default(now()) @map(\"created_at\")\\n  updatedAt           DateTime         @updatedAt @map(\"updated_at\")\\n  shortName           String           @unique\\n  completedStoryPoint Int?             @default(0) @map(\"completed_story_point\")\\n  documents           Document[]\\n  issues              Issue[]\\n  creator             User             @relation(\"createdProjects\", fields: [creatorUserId], references: [id])\\n  organization        Organization     @relation(fields: [organizationId], references: [id])\\n  owner               User?            @relation(\"ownedProjects\", fields: [ownerUserId], references: [id])\\n  team                Team?            @relation(fields: [teamId], references: [id])\\n  templateProject     TemplateProject? @relation(fields: [templateProjectId], references: [id])\\n  workPlans           WorkPlan[]\\n\\n  @@map(\"projects\")\\n}\\n\\nmodel Issue {\\n  id                  String               @id @default(cuid())\\n  projectId           String               @map(\"project_id\")\\n  workPlanId          String?              @map(\"work_plan_id\")\\n  name                String\\n  description         String?\\n  storyPoint          Int?                 @map(\"story_point\")\\n  completedStoryPoint Int?                 @map(\"completed_story_point\")\\n  plannedStartDate    DateTime?            @map(\"planned_start_date\")\\n  plannedEndDate      DateTime?            @map(\"planned_end_date\")\\n  actualStartDate     DateTime?            @map(\"actual_start_date\")\\n  actualEndDate       DateTime?            @map(\"actual_end_date\")\\n  progress            Int                  @default(0)\\n  type                IssueType\\n  status              IssueStatus          @default(CREATED)\\n  meta                Json?                @default(\"{}\")\\n  parentIssueId       String?              @map(\"parent_issue_id\")\\n  templateIssueId     String?              @map(\"template_issue_id\")\\n  creatorUserId       String               @map(\"creator_user_id\")\\n  ownerUserId         String?              @map(\"owner_user_id\")\\n  createdAt           DateTime             @default(now()) @map(\"created_at\")\\n  updatedAt           DateTime             @updatedAt @map(\"updated_at\")\\n  shortName           String               @unique\\n  comments            Comment[]\\n  documents           Document[]\\n  changeHistory       IssueChangeHistory[]\\n  dependedBy          IssueDependency[]    @relation(\"dependedBy\")\\n  dependsOn           IssueDependency[]    @relation(\"dependsOn\")\\n  creator             User                 @relation(\"createdBy\", fields: [creatorUserId], references: [id])\\n  owner               User?                @relation(\"ownedBy\", fields: [ownerUserId], references: [id])\\n  parentIssue         Issue?               @relation(\"parentIssue\", fields: [parentIssueId], references: [id])\\n  childIssues         Issue[]              @relation(\"parentIssue\")\\n  project             Project              @relation(fields: [projectId], references: [id])\\n  templateIssue       TemplateIssue?       @relation(fields: [templateIssueId], references: [id])\\n  workPlan            WorkPlan?            @relation(fields: [workPlanId], references: [id])\\n\\n  @@map(\"issues\")\\n}\\n\\nmodel IssueChangeHistory {\\n  id                Int      @id @default(autoincrement())\\n  issueId           String   @map(\"issue_id\")\\n  userId            String   @map(\"user_id\")\\n  modifiedAttribute String   @map(\"modified_attribute\")\\n  createdAt         DateTime @default(now()) @map(\"created_at\")\\n  issue             Issue    @relation(fields: [issueId], references: [id])\\n  user              User     @relation(fields: [userId], references: [id])\\n\\n  @@index([issueId, createdAt])\\n  @@map(\"issueChangeHistories\")\\n}\\n\\nmodel IssueDependency {\\n  dependsOnIssueId  String\\n  dependedByIssueId String\\n  status            RecordStatus @default(ACTIVE)\\n  meta              Json         @default(\"{}\")\\n  createdAt         DateTime     @default(now()) @map(\"created_at\")\\n  updatedAt         DateTime     @updatedAt @map(\"updated_at\")\\n  dependedBy        Issue        @relation(\"dependedBy\", fields: [dependedByIssueId], references: [id])\\n  dependsOn         Issue        @relation(\"dependsOn\", fields: [dependsOnIssueId], references: [id])\\n\\n  @@id([dependsOnIssueId, dependedByIssueId])\\n  @@map(\"issueDependencies\")\\n}\\n\\nmodel Comment {\\n  id        String        @id @default(cuid())\\n  issueId   String        @map(\"issue_id\")\\n  userId    String        @map(\"user_id\")\\n  content   String        @map(\"content\")\\n  replyTo   String?       @map(\"reply_to\")\\n  createdAt DateTime      @default(now()) @map(\"created_at\")\\n  updatedAt DateTime      @updatedAt @map(\"updated_at\")\\n  status    CommentStatus @default(ACTIVE)\\n  issue     Issue         @relation(fields: [issueId], references: [id])\\n  user      User          @relation(fields: [userId], references: [id])\\n\\n  @@index([issueId])\\n  @@map(\"comments\")\\n}\\n\\nmodel WorkPlan {\\n  id                  String         @id @default(cuid())\\n  projectId           String         @map(\"project_id\")\\n  parentWorkPlanId    String?        @map(\"parent_work_plan_id\")\\n  name                String\\n  description         String?\\n  type                WorkPlanType\\n  storyPoint          Int?           @map(\"story_point\")\\n  completedStoryPoint Int?           @map(\"completed_story_point\")\\n  plannedStartDate    DateTime?      @map(\"planned_start_date\")\\n  plannedEndDate      DateTime?      @map(\"planned_end_date\")\\n  actualStartDate     DateTime?      @map(\"actual_start_date\")\\n  actualEndDate       DateTime?      @map(\"actual_end_date\")\\n  progress            Int            @default(0)\\n  status              WorkPlanStatus @default(CREATED)\\n  meta                Json?          @default(\"{}\")\\n  creatorUserId       String         @map(\"creator_user_id\")\\n  ownerUserId         String?        @map(\"owner_user_id\")\\n  createdAt           DateTime       @default(now()) @map(\"created_at\")\\n  updatedAt           DateTime       @updatedAt @map(\"updated_at\")\\n  issues              Issue[]\\n  creator             User           @relation(\"createdWorkPlans\", fields: [creatorUserId], references: [id])\\n  owner               User?          @relation(\"ownedWorkPlans\", fields: [ownerUserId], references: [id])\\n  parentWorkPlan      WorkPlan?      @relation(\"parentWorkPlan\", fields: [parentWorkPlanId], references: [id])\\n  childWorkPlans      WorkPlan[]     @relation(\"parentWorkPlan\")\\n  project             Project        @relation(fields: [projectId], references: [id])\\n\\n  @@map(\"workPlans\")\\n}\\n\\nmodel TemplateDocument {\\n  id              String         @id @default(cuid())\\n  organizationId  String         @map(\"organization_id\")\\n  templateIssueId String?\\n  name            String\\n  description     String?\\n  type            DOCTYPE\\n  url             String\\n  access          TemplateAccess @default(ORGANIZATION)\\n  status          DocumentStatus @default(CREATED)\\n  creatorUserId   String         @map(\"creator_user_id\")\\n  createdAt       DateTime       @default(now()) @map(\"created_at\")\\n  updatedAt       DateTime       @updatedAt @map(\"updated_at\")\\n  Document        Document[]\\n  creator         User           @relation(fields: [creatorUserId], references: [id])\\n  organization    Organization   @relation(fields: [organizationId], references: [id])\\n  templateIssue   TemplateIssue? @relation(fields: [templateIssueId], references: [id])\\n\\n  @@map(\"templateDocuments\")\\n}\\n\\nmodel Document {\\n  id                 String            @id @default(cuid())\\n  projectId          String            @map(\"project_id\")\\n  issueId            String            @map(\"issue_id\")\\n  name               String\\n  description        String?\\n  content            Bytes?            @default(\"\")\\n  type               DOCTYPE\\n  url                String\\n  access             Access            @default(ORGANIZATION)\\n  status             DocumentStatus    @default(CREATED)\\n  meta               Json?             @default(\"{}\")\\n  templateDocumentId String?           @map(\"template_document_id\")\\n  creatorUserId      String            @map(\"creator_user_id\")\\n  createdAt          DateTime          @default(now()) @map(\"created_at\")\\n  updatedAt          DateTime          @updatedAt @map(\"updated_at\")\\n  creator            User              @relation(fields: [creatorUserId], references: [id])\\n  issue              Issue             @relation(fields: [issueId], references: [id])\\n  project            Project           @relation(fields: [projectId], references: [id])\\n  templateDocument   TemplateDocument? @relation(fields: [templateDocumentId], references: [id])\\n\\n  @@map(\"documents\")\\n}\\n\\nmodel Embedding {\\n  id             BigInt                 @id @default(autoincrement())\\n  organizationId String                 @map(\"organization_id\")\\n  title          String?\\n  url            String?\\n  content        String?\\n  tokens         Int?\\n  embedding      Unsupported(\"vector\")?\\n\\n  @@index([organizationId])\\n  @@map(\"embeddings\")\\n}\\n\\nenum UserRole {\\n  SUPERADMIN\\n  ADMIN\\n  EMPLOYEE\\n}\\n\\nenum RecordStatus {\\n  PENDING\\n  ACTIVE\\n  INACTIVE\\n  DEACTIVATED\\n  READ\\n}\\n\\nenum Department {\\n  Product\\n  Engineering\\n  Sales\\n  Marketing\\n  Operation\\n}\\n\\nenum Access {\\n  SELF\\n  TEAM\\n  ORGANIZATION\\n}\\n\\nenum TemplateAccess {\\n  SELF\\n  ORGANIZATION\\n  PUBLIC\\n}\\n\\nenum ProjectStatus {\\n  CREATED\\n  STARTED\\n  PAUSED\\n  COMPLETED\\n  CANCELED\\n}\\n\\nenum IssueStatus {\\n  CREATED\\n  STARTED\\n  OVERWRITTEN\\n  INREVIEW\\n  APPROVED\\n  COMPLETED\\n  CANCELED\\n}\\n\\nenum IssueType {\\n  BUILDABLE\\n  EPIC\\n  STORY\\n  TASK\\n  SUBTASK\\n  BUG\\n}\\n\\nenum CommentStatus {\\n  ACTIVE\\n  DELETED\\n}\\n\\nenum WorkPlanType {\\n  MILESTONE\\n  SPRINT\\n  KANBAN\\n  BACKLOG\\n}\\n\\nenum WorkPlanStatus {\\n  CREATED\\n  STARTED\\n  OVERWRITTEN\\n  COMPLETED\\n  CANCELED\\n}\\n\\nenum DOCTYPE {\\n  PRD\\n  UI_DESIGN\\n  TECH_DESIGN\\n  DEVELOPMENT_PLAN\\n  QA_PLAN\\n  RELEASE_PLAN\\n  OTHER\\n}\\n\\nenum DocumentStatus {\\n  CREATED\\n  INREVIEW\\n  APPROVED\\n  PUBLISHED\\n  CANCELED\\n  ARCHIVED\\n}\\n```']\n",
      "What is needed to build a enterprise grade user management system for Omniflow?\n",
      "To build an enterprise-grade user management system for Omniflow, you will need to consider the following:\n",
      "\n",
      "1. User Authentication: Implement support for Google OAuth signup and login to allow users to quickly create accounts and access them without remembering additional passwords.\n",
      "\n",
      "2. Team Management: Develop a mechanism for users to join teams through invitation links sent via email. Provide team admins with the capability to add and remove team members from the team management interface.\n",
      "\n",
      "3. User Account Management: Enable company admins to suspend or deactivate user accounts from the admin dashboard, allowing them to temporarily or permanently restrict access for certain users.\n",
      "\n",
      "4. High Availability and Scalability: Ensure the system has high availability with 99.9% uptime and can handle up to 10,000 concurrent users. This may involve implementing load balancing, redundancy, and scalability measures.\n",
      "\n",
      "5. Data Security and Compliance: Ensure the system complies with GDPR regulations and provides data security measures to protect user information.\n",
      "\n",
      "6. User-Friendly Interface and Performance: Design a user-friendly interface with a response time of less than 2 seconds for all major actions to provide a smooth user experience.\n",
      "\n",
      "To implement these features, you will need a development team with expertise in web development, authentication protocols, database management, and security practices. Additionally, you may need to integrate with external services like Google OAuth for authentication.\n"
     ]
    }
   ],
   "source": [
    "# Helper function: Get top 3 most similar documents from the database\n",
    "# remember to update the organization_id to match the organization_id in the database\n",
    "def get_top3_similar_docs(query_embedding, qdrant_client):\n",
    "    embedding_array = np.array(query_embedding)\n",
    "    search_result = qdrant_client.search(\n",
    "        collection_name=collection_name,\n",
    "        query_vector=embedding_array,\n",
    "        query_filter=models.Filter(\n",
    "            must=[models.FieldCondition(key=\"organization_id\", match=models.MatchValue(value=\"willyCompany\"))]\n",
    "        ),\n",
    "        with_payload=True,\n",
    "        limit=3,\n",
    "    )\n",
    "    return [v.payload['content'] for v in search_result]\n",
    "\n",
    "# Helper function: get text completion from OpenAI API\n",
    "# Note we're using the latest gpt-3.5-turbo-0613 model\n",
    "from openai import OpenAI\n",
    "client = OpenAI()\n",
    "\n",
    "def get_completion_from_messages(messages, model=\"gpt-3.5-turbo-0613\", temperature=0, max_tokens=1000):\n",
    "    response = client.chat.completions.create(\n",
    "        model=model,\n",
    "        messages=messages,\n",
    "        temperature=temperature, \n",
    "        max_tokens=max_tokens, \n",
    "    )\n",
    "    return response\n",
    "\n",
    "# Helper function: get embeddings for a text\n",
    "def get_embeddings(text):\n",
    "    return client.embeddings.create(input = [text.replace(\"\\n\",\" \")], model=\"text-embedding-ada-002\").data[0].embedding\n",
    "\n",
    "# Function to process input with retrieval of most similar documents from the database\n",
    "def process_input_with_retrieval(user_input):\n",
    "    delimiter = \"```\"\n",
    "\n",
    "    #Step 1: Get documents related to the user input from database\n",
    "    related_docs = get_top3_similar_docs(get_embeddings(user_input), qdrant_client)\n",
    "    print(related_docs)\n",
    "    # Step 2: Get completion from OpenAI API\n",
    "    # Set system message to help set appropriate tone and context for model\n",
    "    system_message = f\"\"\"\n",
    "    You are a friendly chatbot. \\\n",
    "    You can answer questions about products, its features and its use cases. \\\n",
    "    You respond in a concise, technically credible tone. \\\n",
    "    \"\"\"\n",
    "\n",
    "    # Prepare messages to pass to model\n",
    "    # We use a delimiter to help the model understand the where the user_input starts and ends\n",
    "    messages = [\n",
    "        {\"role\": \"system\", \"content\": system_message},\n",
    "        {\"role\": \"user\", \"content\": f\"{delimiter}{user_input}{delimiter}\"},\n",
    "        {\"role\": \"assistant\", \"content\": f\"Relevant information: \\n {related_docs[0]}\"}   \n",
    "    ]\n",
    "\n",
    "    final_response = get_completion_from_messages(messages).choices[0].message.content\n",
    "    return final_response\n",
    "\n",
    "\n",
    "input = \"What is needed to build a enterprise grade user management system for Omniflow?\"\n",
    "response = process_input_with_retrieval(input)\n",
    "print(input)\n",
    "print(response)"
   ]
  }
 ],
 "metadata": {
  "kernelspec": {
   "display_name": "Python 3",
   "language": "python",
   "name": "python3"
  },
  "language_info": {
   "codemirror_mode": {
    "name": "ipython",
    "version": 3
   },
   "file_extension": ".py",
   "mimetype": "text/x-python",
   "name": "python",
   "nbconvert_exporter": "python",
   "pygments_lexer": "ipython3",
   "version": "3.9.6"
  }
 },
 "nbformat": 4,
 "nbformat_minor": 2
}
